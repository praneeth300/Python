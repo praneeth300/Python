{
 "cells": [
  {
   "cell_type": "markdown",
   "metadata": {},
   "source": [
    "### Object Oriented Programming"
   ]
  },
  {
   "cell_type": "markdown",
   "metadata": {},
   "source": [
    "__Object Oriented Programming (OOP)__ is a programming paradigm that allows abstraction through the concept of interacting entities. This programming works contradictory to conventional model and is procedural, in which programs are organized as a sequence of commands or statements to perform.\n",
    "\n",
    "We can think an object as an entity that resides in memory, has a state and it's able to perform some actions. \n",
    " \n",
    "More formally objects are entities that represent **instances** of a general abstract concept called **class**. In `Python`, \"attributes\" are the variables defining an object state and the possible actions are called \"methods\".\n",
    "\n",
    "In Python, everything is an object also classes and functions."
   ]
  },
  {
   "cell_type": "code",
   "execution_count": 2,
   "metadata": {},
   "outputs": [
    {
     "name": "stdout",
     "output_type": "stream",
     "text": [
      "Samantha\n",
      "1990\n",
      "USA\n",
      "1980\n"
     ]
    }
   ],
   "source": [
    "#create a class\n",
    "class person():\n",
    "    pass\n",
    "jordon=person()\n",
    "jordon.last_name='Michel'\n",
    "jordon.location='USA'\n",
    "jordon.year_of_birth=1990\n",
    "\n",
    "sam=person()\n",
    "sam.name='Samantha'\n",
    "sam.location='INDIA'\n",
    "sam.year_of_birth=1980\n",
    "\n",
    "print(sam.name)\n",
    "print(jordon.year_of_birth)\n",
    "print(jordon.location)\n",
    "print(sam.year_of_birth)"
   ]
  },
  {
   "cell_type": "code",
   "execution_count": 3,
   "metadata": {},
   "outputs": [
    {
     "name": "stdout",
     "output_type": "stream",
     "text": [
      "<__main__.person object at 0x000001AF35D4DD00>\n",
      "<__main__.person object at 0x000001AF35D4DC10>\n"
     ]
    }
   ],
   "source": [
    "print(sam)\n",
    "print(jordon)"
   ]
  },
  {
   "cell_type": "code",
   "execution_count": 8,
   "metadata": {},
   "outputs": [
    {
     "name": "stdout",
     "output_type": "stream",
     "text": [
      "halle and last name is kaila and the location is Canada.\n"
     ]
    }
   ],
   "source": [
    "class person():\n",
    "    pass\n",
    "\n",
    "hum=person()\n",
    "hum.name=\"halle\"\n",
    "hum.last_name='kaila'\n",
    "hum.location='Canada'\n",
    "\n",
    "print(\"%s and last name is %s and the location is %s.\" %(hum.name,hum.last_name,hum.location))"
   ]
  },
  {
   "cell_type": "code",
   "execution_count": 9,
   "metadata": {},
   "outputs": [],
   "source": [
    "class person():\n",
    "    pass"
   ]
  },
  {
   "cell_type": "markdown",
   "metadata": {},
   "source": [
    " The following example defines a empty class(i.e., the class doesn't have a state)calles Person then creates a person instance called hum and add three attributs to 'hum'.We can see that we can access the attributes by using 'dot' operater"
   ]
  },
  {
   "cell_type": "code",
   "execution_count": 21,
   "metadata": {},
   "outputs": [],
   "source": [
    "class person:\n",
    "    def __init__(self,name,last_name,location,date_of_birth):\n",
    "        self.name=name\n",
    "        self.last_name=last_name\n",
    "        self.location=location\n",
    "        self.date_of_birth=date_of_birth"
   ]
  },
  {
   "cell_type": "code",
   "execution_count": 29,
   "metadata": {},
   "outputs": [],
   "source": [
    "dr=person('Horse','Shelfie','California','4-1-1999')"
   ]
  },
  {
   "cell_type": "code",
   "execution_count": 30,
   "metadata": {},
   "outputs": [
    {
     "name": "stdout",
     "output_type": "stream",
     "text": [
      "Horse\n",
      "Shelfie\n",
      "California\n",
      "4-1-1999\n"
     ]
    }
   ],
   "source": [
    "print(dr.name)\n",
    "print(dr.last_name)\n",
    "print(dr.location)\n",
    "print(dr.date_of_birth)"
   ]
  },
  {
   "cell_type": "code",
   "execution_count": 32,
   "metadata": {},
   "outputs": [
    {
     "data": {
      "text/plain": [
       "'6-1-1990'"
      ]
     },
     "execution_count": 32,
     "metadata": {},
     "output_type": "execute_result"
    }
   ],
   "source": [
    "sr=person('San','jumbo','Canada','6-1-1990')\n",
    "sr.date_of_birth"
   ]
  },
  {
   "cell_type": "code",
   "execution_count": 36,
   "metadata": {},
   "outputs": [
    {
     "name": "stdout",
     "output_type": "stream",
     "text": [
      "Albert einstain is lived in USA and born in 6-3-1870.\n"
     ]
    }
   ],
   "source": [
    "sc=person('Albert','einstain','USA','6-3-1870')\n",
    "print(\"%s %s is lived in %s and born in %s.\" % (sc.name,sc.last_name,sc.location,sc.date_of_birth))"
   ]
  },
  {
   "cell_type": "markdown",
   "metadata": {},
   "source": [
    "### Methods"
   ]
  },
  {
   "cell_type": "code",
   "execution_count": 49,
   "metadata": {},
   "outputs": [
    {
     "data": {
      "text/plain": [
       "31"
      ]
     },
     "execution_count": 49,
     "metadata": {},
     "output_type": "execute_result"
    }
   ],
   "source": [
    "class person:\n",
    "    def __init__(self,name,last_name,location,year_of_birth):\n",
    "        self.name=name\n",
    "        self.last_name=last_name\n",
    "        self.location=location\n",
    "        self.year_of_birth=year_of_birth\n",
    "        \n",
    "    def age(self,current_year):\n",
    "        return current_year - self.year_of_birth\n",
    "    \n",
    "    def __str__(self):\n",
    "        return \"%s %s and lived in %s and born in %d .\" % (self.name,self.last_name,self.location,self.year_of_birth)\n",
    "        \n",
    "albert=person('Danial','Brown','Ukrain',1989)\n",
    "albert.age(2020)"
   ]
  },
  {
   "cell_type": "code",
   "execution_count": 50,
   "metadata": {},
   "outputs": [
    {
     "name": "stdout",
     "output_type": "stream",
     "text": [
      "Danial Brown and lived in Ukrain and born in 1989 .\n"
     ]
    }
   ],
   "source": [
    "print(albert)"
   ]
  },
  {
   "cell_type": "markdown",
   "metadata": {},
   "source": [
    "### Protect your abstraction"
   ]
  },
  {
   "cell_type": "markdown",
   "metadata": {},
   "source": [
    "Here the instance attributes shouldn't be accessible by the end user of an object as they are powerful mean of abstraction they should not reveal the internal implementation detail. In Python, there is no specific strict mechanism to protect object attributes but the official guidelines suggest that a variable that has an underscore prefix should be treated as 'Private'.\n",
    "\n",
    "Moreover prepending two underscores to a variable name makes the interpreter mangle a little the variable name."
   ]
  },
  {
   "cell_type": "code",
   "execution_count": 66,
   "metadata": {},
   "outputs": [
    {
     "name": "stdout",
     "output_type": "stream",
     "text": [
      "X_Frame\n",
      "Iron\n"
     ]
    },
    {
     "data": {
      "text/plain": [
       "{'_body': 'X_Frame', '_material': 'Iron', '_tyres': 'Rubber'}"
      ]
     },
     "execution_count": 66,
     "metadata": {},
     "output_type": "execute_result"
    }
   ],
   "source": [
    "class car:\n",
    "    def __init__(self,body,material,tyres):\n",
    "        self._body=body\n",
    "        self._material=material\n",
    "        self._tyres=tyres\n",
    "        \n",
    "    def __str__(self):\n",
    "        return \"The car has a %s body and made with %s frame and has suitable %s tyres. \" %(self._body,self._material,self._tyres)\n",
    "\n",
    "    \n",
    "c=car('X_Frame','Iron','Rubber')\n",
    "print(c._body)\n",
    "print(c._material)\n",
    "\n",
    "c.__dict__"
   ]
  },
  {
   "cell_type": "code",
   "execution_count": 60,
   "metadata": {},
   "outputs": [
    {
     "name": "stdout",
     "output_type": "stream",
     "text": [
      "The car has a X_Frame body and made with Iron frame and has suitable Rubber tyres. \n"
     ]
    }
   ],
   "source": [
    "print(c)"
   ]
  },
  {
   "cell_type": "code",
   "execution_count": 67,
   "metadata": {},
   "outputs": [
    {
     "data": {
      "text/plain": [
       "{'_car__body': 'X_Frame', '_car__material': 'Iron', '_car__tyres': 'Rubber'}"
      ]
     },
     "execution_count": 67,
     "metadata": {},
     "output_type": "execute_result"
    }
   ],
   "source": [
    "class car:\n",
    "    def __init__(self,body,material,tyres):\n",
    "        self.__body=body\n",
    "        self.__material=material\n",
    "        self.__tyres=tyres\n",
    "        \n",
    "    def __str__(self):\n",
    "        return \"The car has a %s body and made with %s frame and has suitable %s tyres. \" %(self._body,self._material,self._tyres)\n",
    "\n",
    "    \n",
    "c=car('X_Frame','Iron','Rubber')\n",
    "\n",
    "c.__dict__"
   ]
  },
  {
   "cell_type": "markdown",
   "metadata": {},
   "source": [
    "### Inheritance"
   ]
  },
  {
   "cell_type": "markdown",
   "metadata": {},
   "source": [
    "Once a class is defined it models a concept. It is useful to extend a class behavior to model a less general concept. Say we need to model a Student, but we know that every student is also a Person so we shouldn't model the Person again but inherit from it instead."
   ]
  },
  {
   "cell_type": "code",
   "execution_count": 68,
   "metadata": {},
   "outputs": [],
   "source": [
    "class person:\n",
    "    def __init__(self,name,surname,location):\n",
    "        self.name=name\n",
    "        self.surname=surname\n",
    "        self.location=location\n",
    "        \n",
    "    def __str__(self):\n",
    "        \n",
    "        return \"%s and the surname is %s and lived in %s. \" % (self.name,self.surname,self.location)    "
   ]
  },
  {
   "cell_type": "code",
   "execution_count": 80,
   "metadata": {},
   "outputs": [
    {
     "name": "stdout",
     "output_type": "stream",
     "text": [
      "Student ID is 1.\n",
      "Charlie location is USA.\n"
     ]
    }
   ],
   "source": [
    "class student(person):\n",
    "    def __init__(self,studentID,*args):\n",
    "        super(student,self).__init__(*args)\n",
    "        self._studentID=studentID\n",
    "        \n",
    "char=student(1,'Charlie','Brown','USA')\n",
    "print(\"Student ID is %d.\" %(char._studentID))\n",
    "print(\"Charlie location is %s.\" % (char.location))"
   ]
  },
  {
   "cell_type": "code",
   "execution_count": 98,
   "metadata": {},
   "outputs": [
    {
     "name": "stdout",
     "output_type": "stream",
     "text": [
      "Hello\n",
      "World\n",
      "90\n",
      "This Is A type project\n",
      "{'__module__': '__main__', 'obj_a': <__main__.A object at 0x000001AF35E33220>, 'obj_b': <__main__.B object at 0x000001AF35E33250>, '__doc__': None}\n"
     ]
    }
   ],
   "source": [
    "class A:\n",
    "    def __init__(self,x,y):\n",
    "        self._x=x\n",
    "        self._y=y\n",
    "        \n",
    "    def test(self):\n",
    "        return ('This Is A type project')\n",
    "    \n",
    "class B:\n",
    "    def __init__(self,a,b):\n",
    "        self._a=a\n",
    "        self._b=b\n",
    "        \n",
    "    def test(self):\n",
    "        return 'This is Class B project'\n",
    "    \n",
    "class C(A,B):\n",
    "    obj_a=A(\"Hello\",'World')\n",
    "    obj_b=B(90,89)\n",
    "    print(obj_a._x)\n",
    "    print(obj_a._y)\n",
    "    print(obj_b._a)\n",
    "    print(obj_a.test())\n",
    "    print(C.__dict__)"
   ]
  },
  {
   "cell_type": "markdown",
   "metadata": {},
   "source": [
    "### Encapsulation"
   ]
  },
  {
   "cell_type": "markdown",
   "metadata": {},
   "source": [
    "A method Encapsulation is another powerful way to extend a class which consists on wrapping an object with a second one.There are two main reasons to use encapsulation.\n",
    "1. Composition\n",
    "2. Dynamic Extension"
   ]
  },
  {
   "cell_type": "markdown",
   "metadata": {},
   "source": [
    "### 1. Composition"
   ]
  },
  {
   "cell_type": "markdown",
   "metadata": {},
   "source": [
    "The abstraction process relies on creating a simplified model that remove useless details from a concept. In order to be simplified, a model should be described in terms of other simpler concepts. For example, we can say that a car is composed by:\n",
    "\n",
    "1. Tyres\n",
    "2. Engine\n",
    "3. Body\n",
    "And break down each one of these elements in simpler parts until we reach primitive data."
   ]
  },
  {
   "cell_type": "code",
   "execution_count": 111,
   "metadata": {},
   "outputs": [],
   "source": [
    "class Tyres:\n",
    "    def __init__(self,brand,material,size):\n",
    "        self.brand=brand\n",
    "        self.material=material\n",
    "        self.size=size\n",
    "        \n",
    "    def __str__(self):\n",
    "        return ('Brand: \\n \\t: ' + self.brand + 'Material: \\n \\t material: ' + self.material + 'Size: \\n \\t: ' + self.size)\n",
    "    \n",
    "    \n",
    "class Engine:\n",
    "    def __init__(self,fuel_type,engine_type):\n",
    "        self.fuel_type=fuel_type\n",
    "        self.engine_type=engine_type\n",
    "        \n",
    "    def __str__(self):\n",
    "        return ('Fuel_Type: \\n \\tType: ' + self.fuel_type + 'Engine_type: \\n \\tType: ' + self.engine_type)\n",
    "    \n",
    "class Body:\n",
    "    def __init__(self,material,frame,brand):\n",
    "        self.material=material\n",
    "        self.frame=frame\n",
    "        self.brand=brand\n",
    "        \n",
    "    def __str__(self):\n",
    "        return ('Material: \\n \\t: ' + self.material + 'Frame: \\n \\t: ' + self.frame + 'Brand: \\n \\t: ' + self.brand)\n",
    "        \n",
    "class Car:\n",
    "    def __init__(self,tyres,engine,body):\n",
    "        self.tyres=tyres\n",
    "        self.engine=engine\n",
    "        self.body=body\n",
    "        \n",
    "    def __str__(self):\n",
    "        return str(self.tyres)+ \"\\n\" + str(self.engine) + \"\\n\" + str(self.body)\n",
    "        \n",
    "t=Tyres('Roll','Rubber','Big')\n",
    "e=Engine('Petrol','V')\n",
    "b=Body('Iron','x_frame','Low')"
   ]
  },
  {
   "cell_type": "code",
   "execution_count": 112,
   "metadata": {},
   "outputs": [
    {
     "name": "stdout",
     "output_type": "stream",
     "text": [
      "Brand: \n",
      " \t: RollMaterial: \n",
      " \t material: RubberSize: \n",
      " \t: Big\n",
      "Fuel_Type: \n",
      " \tType: PetrolEngine_type: \n",
      " \tType: V\n",
      "Material: \n",
      " \t: IronFrame: \n",
      " \t: x_frameBrand: \n",
      " \t: Low\n"
     ]
    }
   ],
   "source": [
    "c=Car(t,e,b)\n",
    "print(c)"
   ]
  },
  {
   "cell_type": "markdown",
   "metadata": {},
   "source": [
    "### Dynamic Extension"
   ]
  },
  {
   "cell_type": "markdown",
   "metadata": {},
   "source": [
    "Sometimes it's necessary to model a concept that may be a subclass of another one, but it isn't possible to know which class should be its superclass until runtime."
   ]
  },
  {
   "cell_type": "code",
   "execution_count": 116,
   "metadata": {},
   "outputs": [
    {
     "name": "stdout",
     "output_type": "stream",
     "text": [
      "Kudrjavka is a Laika born in 1954.\n"
     ]
    }
   ],
   "source": [
    "class Dog:\n",
    "    def __init__(self, name, year_of_birth, breed):\n",
    "        self._name = name\n",
    "        self._year_of_birth = year_of_birth\n",
    "        self._breed = breed\n",
    "\n",
    "    def __str__(self):\n",
    "        return \"%s is a %s born in %d.\" % (self._name, self._breed, self._year_of_birth)\n",
    "\n",
    "kudrjavka = Dog(\"Kudrjavka\", 1954, \"Laika\")\n",
    "print(kudrjavka)"
   ]
  },
  {
   "cell_type": "code",
   "execution_count": 117,
   "metadata": {},
   "outputs": [
    {
     "name": "stdout",
     "output_type": "stream",
     "text": [
      "dsfs Student ID: 1\n",
      "Kudrjavka is a Laika born in 1954. Student ID: 2\n"
     ]
    }
   ],
   "source": [
    "class Student:\n",
    "    def __init__(self, anagraphic, student_id):\n",
    "        self._anagraphic = anagraphic\n",
    "        self._student_id = student_id\n",
    "    def __str__(self):\n",
    "        return str(self._anagraphic) + \" Student ID: %d\" % self._student_id\n",
    "\n",
    "\n",
    "alec_student = Student(\"dsfs\",1)\n",
    "kudrjavka_student = Student(kudrjavka, 2)\n",
    "\n",
    "print(alec_student)\n",
    "print(kudrjavka_student)\n"
   ]
  },
  {
   "cell_type": "markdown",
   "metadata": {},
   "source": [
    "### Polymorphism and Duck typing"
   ]
  },
  {
   "cell_type": "markdown",
   "metadata": {},
   "source": [
    "Python uses dynamic typing which is also called as duck typing. If an object implements a method you can use it, irrespective of the type. This is different from statically typed languages, where the type of a construct need to be explicitly declared. Polymorphism is the ability to use the same syntax for objects of different types:"
   ]
  },
  {
   "cell_type": "code",
   "execution_count": 121,
   "metadata": {},
   "outputs": [
    {
     "name": "stdout",
     "output_type": "stream",
     "text": [
      "2\n",
      "[1, 2, 3, 4, 4, 5, 6, 7]\n",
      "['a', 'b', 'c', 'd', 'e', 'f', 'g']\n",
      "helloworld\n"
     ]
    }
   ],
   "source": [
    "def add(a,b):\n",
    "    return a+b\n",
    "\n",
    "print(add(1,1))\n",
    "print(add([1,2,3,4],[4,5,6,7]))\n",
    "print(add(['a','b','c'],['d','e','f','g']))\n",
    "print(add(\"hello\",\"world\"))"
   ]
  },
  {
   "cell_type": "code",
   "execution_count": null,
   "metadata": {},
   "outputs": [],
   "source": []
  }
 ],
 "metadata": {
  "kernelspec": {
   "display_name": "Python 3",
   "language": "python",
   "name": "python3"
  },
  "language_info": {
   "codemirror_mode": {
    "name": "ipython",
    "version": 3
   },
   "file_extension": ".py",
   "mimetype": "text/x-python",
   "name": "python",
   "nbconvert_exporter": "python",
   "pygments_lexer": "ipython3",
   "version": "3.8.3"
  }
 },
 "nbformat": 4,
 "nbformat_minor": 4
}
